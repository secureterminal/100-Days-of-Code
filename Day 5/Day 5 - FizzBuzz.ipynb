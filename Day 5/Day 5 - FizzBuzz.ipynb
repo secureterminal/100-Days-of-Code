{
 "cells": [
  {
   "cell_type": "code",
   "execution_count": null,
   "id": "65289068",
   "metadata": {},
   "outputs": [],
   "source": [
    "#Write your code below this row 👇\n",
    "\n",
    "for n in range(1, 101):\n",
    "\tif n % 15 == 0:\n",
    "\t\tprint('FizzBuzz')\n",
    "\telif n % 3 == 0:\n",
    "\t\tprint('Fizz')\n",
    "\telif n % 5 == 0:\n",
    "\t\tprint('Buzz')\n",
    "\telse:\n",
    "\t\tprint(n)"
   ]
  }
 ],
 "metadata": {
  "kernelspec": {
   "display_name": "Python 3 (ipykernel)",
   "language": "python",
   "name": "python3"
  },
  "language_info": {
   "codemirror_mode": {
    "name": "ipython",
    "version": 3
   },
   "file_extension": ".py",
   "mimetype": "text/x-python",
   "name": "python",
   "nbconvert_exporter": "python",
   "pygments_lexer": "ipython3",
   "version": "3.9.7"
  }
 },
 "nbformat": 4,
 "nbformat_minor": 5
}
