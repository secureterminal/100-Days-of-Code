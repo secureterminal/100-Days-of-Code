{
 "cells": [
  {
   "cell_type": "code",
   "execution_count": 8,
   "id": "7f552eaa",
   "metadata": {},
   "outputs": [
    {
     "name": "stdout",
     "output_type": "stream",
     "text": [
      "Welcome to the PyPassword Generator!\n",
      "How many letters would you like in your password?\n",
      "9\n",
      "How many symbols would you like?\n",
      "9\n",
      "How many numbers would you like?\n",
      "9\n",
      "iyGBPCUxc377485017&**&*!++&\n",
      "++4*&3G!&Cx*8077*P&UB1y7c5i\n"
     ]
    }
   ],
   "source": [
    "#Password Generator Project\n",
    "import random\n",
    "letters = ['a', 'b', 'c', 'd', 'e', 'f', 'g', 'h', 'i', 'j', 'k', 'l', 'm', 'n', 'o', 'p', 'q', 'r', 's', 't', 'u', 'v', 'w', 'x', 'y', 'z', 'A', 'B', 'C', 'D', 'E', 'F', 'G', 'H', 'I', 'J', 'K', 'L', 'M', 'N', 'O', 'P', 'Q', 'R', 'S', 'T', 'U', 'V', 'W', 'X', 'Y', 'Z']\n",
    "numbers = ['0', '1', '2', '3', '4', '5', '6', '7', '8', '9']\n",
    "symbols = ['!', '#', '$', '%', '&', '(', ')', '*', '+']\n",
    "\n",
    "print(\"Welcome to the PyPassword Generator!\")\n",
    "nr_letters= int(input(\"How many letters would you like in your password?\\n\")) \n",
    "nr_symbols = int(input(f\"How many symbols would you like?\\n\"))\n",
    "nr_numbers = int(input(f\"How many numbers would you like?\\n\"))\n",
    "\n",
    "#Eazy Level - Order not randomised:\n",
    "#e.g. 4 letter, 2 symbol, 2 number = JduE&!91\n",
    "\n",
    "\n",
    "#Hard Level - Order of characters randomised:\n",
    "#e.g. 4 letter, 2 symbol, 2 number = g^2jk8&P\n",
    "\n",
    "\n",
    "pswd = ''\n",
    "final = ''\n",
    "\n",
    "for n in range(nr_letters):\n",
    "    pswd += letters[random.randint(0, len(letters) -1)]\n",
    "\n",
    "for n in range(nr_numbers):\n",
    "    pswd += numbers[random.randint(0, len(numbers) -1)]\n",
    "        \n",
    "for n in range(nr_symbols):\n",
    "    pswd += symbols[random.randint(0, len(symbols) -1)]\n",
    "    \n",
    "print(pswd)\n",
    "\n",
    "\n",
    "for p in range(len(pswd)):\n",
    "    if len(pswd) > 0:\n",
    "        choice = random.randint(0, len(pswd)-1)\n",
    "        final += pswd[choice]\n",
    "        pswd = pswd.replace(pswd[choice], '', 1)\n",
    "\n",
    "print(final)"
   ]
  }
 ],
 "metadata": {
  "kernelspec": {
   "display_name": "Python 3 (ipykernel)",
   "language": "python",
   "name": "python3"
  },
  "language_info": {
   "codemirror_mode": {
    "name": "ipython",
    "version": 3
   },
   "file_extension": ".py",
   "mimetype": "text/x-python",
   "name": "python",
   "nbconvert_exporter": "python",
   "pygments_lexer": "ipython3",
   "version": "3.9.7"
  }
 },
 "nbformat": 4,
 "nbformat_minor": 5
}
