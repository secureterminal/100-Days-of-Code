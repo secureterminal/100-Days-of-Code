{
 "cells": [
  {
   "cell_type": "code",
   "execution_count": 1,
   "id": "fdd07c90",
   "metadata": {},
   "outputs": [],
   "source": [
    "#If the bill was $150.00, split between 5 people, with 12% tip. \n",
    "\n",
    "#Each person should pay (150.00 / 5) * 1.12 = 33.6\n",
    "#Format the result to 2 decimal places = 33.60\n",
    "\n",
    "\n",
    "#Write your code below this line 👇"
   ]
  },
  {
   "cell_type": "code",
   "execution_count": null,
   "id": "5d4a9969",
   "metadata": {},
   "outputs": [],
   "source": [
    "print(\"Welcome to the Tip Calculator App!!!\")\n",
    "\n",
    "bill = int(input('What is the total bill?\\n '))\n",
    "\n",
    "percent_tip = int(input('What percentage tip are you paying\\n'))\n",
    "\n",
    "no_of_split = int(input('how many people are splitting the bill?\\n'))\n",
    "\n",
    "total_bill = bill + (bill * percent_tip / 100)\n",
    "\n",
    "shared_bill = round(total_bill / no_of_split, 2)\n",
    "\n",
    "print(f'Your bill is {bill}, with a {percent_tip}% tip equals {total_bill}, when shared among {no_of_split} people, the bill per person becomes {shared_bill}')"
   ]
  },
  {
   "cell_type": "code",
   "execution_count": null,
   "id": "910c48f1",
   "metadata": {},
   "outputs": [],
   "source": []
  },
  {
   "cell_type": "code",
   "execution_count": null,
   "id": "73c6f46c",
   "metadata": {},
   "outputs": [],
   "source": []
  }
 ],
 "metadata": {
  "kernelspec": {
   "display_name": "Python 3 (ipykernel)",
   "language": "python",
   "name": "python3"
  },
  "language_info": {
   "codemirror_mode": {
    "name": "ipython",
    "version": 3
   },
   "file_extension": ".py",
   "mimetype": "text/x-python",
   "name": "python",
   "nbconvert_exporter": "python",
   "pygments_lexer": "ipython3",
   "version": "3.9.7"
  }
 },
 "nbformat": 4,
 "nbformat_minor": 5
}
