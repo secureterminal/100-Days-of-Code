{
 "cells": [
  {
   "cell_type": "code",
   "execution_count": 33,
   "id": "a13fa341",
   "metadata": {
    "scrolled": true
   },
   "outputs": [
    {
     "name": "stdout",
     "output_type": "stream",
     "text": [
      "Type 'encode' to encrypt, type 'decode' to decrypt:\n",
      "encrypt\n",
      "Your input, \"encrypt\" is invalid, can't you read the instructions?\n",
      "Do you want to continue playing? Type \"Y\" for \"Yes\" and \"N\" for \"NO\" \n",
      "y\n",
      "Type 'encode' to encrypt, type 'decode' to decrypt:\n",
      "encode\n",
      "Type your message:\n",
      "kemb\n",
      "Type the shift number:\n",
      "3\n",
      "The encoded text is  nhpe\n",
      "Do you want to continue playing? Type \"Y\" for \"Yes\" and \"N\" for \"NO\" \n",
      "y\n",
      "Type 'encode' to encrypt, type 'decode' to decrypt:\n",
      "decode\n",
      "Type your message:\n",
      "nhpe\n",
      "Type the shift number:\n",
      "3\n",
      "The decoded text is  kemb\n",
      "Do you want to continue playing? Type \"Y\" for \"Yes\" and \"N\" for \"NO\" \n",
      "n\n",
      "Goodbye...\n"
     ]
    }
   ],
   "source": [
    "def new_index(old_index, shift, direction):\n",
    "    if direction == 'encode':\n",
    "        temp_index = old_index + shift\n",
    "        if temp_index > 25:\n",
    "            while temp_index > 25:\n",
    "                temp_index -= 26\n",
    "        return temp_index\n",
    "    else:\n",
    "        temp_index = old_index - shift\n",
    "        if temp_index < 0:\n",
    "            while temp_index < 0:\n",
    "                temp_index += 26\n",
    "        return temp_index\n",
    "\n",
    "\n",
    "\n",
    "def ceasar(text, shift, direction):\n",
    "    final = ''\n",
    "    for str in text:\n",
    "        if str not in alphabet:\n",
    "            final += str\n",
    "        else:\n",
    "            new_str = alphabet[new_index(alphabet.index(str), shift, direction)]\n",
    "            final += new_str\n",
    "    return final\n",
    "\n",
    "\n",
    "def game_over():\n",
    "    end_game = input('Do you want to continue playing? Type \"Y\" for \"Yes\" and \"N\" for \"NO\" \\n').lower()\n",
    "    if end_game == 'y':\n",
    "        return True\n",
    "    else:\n",
    "        print('Goodbye...')\n",
    "        return False\n",
    "\n",
    "continue_game = True\n",
    "\n",
    "while continue_game == True:\n",
    "    alphabet = ['a', 'b', 'c', 'd', 'e', 'f', 'g', 'h', 'i', 'j', 'k', 'l', 'm', 'n', 'o', 'p', 'q', 'r', 's', 't', 'u', 'v', 'w', 'x', 'y', 'z']\n",
    "\n",
    "    direction = input(\"Type 'encode' to encrypt, type 'decode' to decrypt:\\n\").lower()\n",
    "\n",
    "    if (direction == 'encode') | (direction == 'decode'):\n",
    "        text = input(\"Type your message:\\n\").lower()\n",
    "        shift = int(input(\"Type the shift number:\\n\"))\n",
    "        print(f'The {direction}d text is  {ceasar(text, shift, direction)}')\n",
    "    else:\n",
    "        print(f'Your input, \"{direction}\" is invalid, can\\'t you read the instructions?')\n",
    "        \n",
    "    continue_game = game_over()\n",
    "    \n",
    " "
   ]
  },
  {
   "cell_type": "code",
   "execution_count": null,
   "id": "3640d886",
   "metadata": {},
   "outputs": [],
   "source": []
  },
  {
   "cell_type": "code",
   "execution_count": null,
   "id": "c1807c14",
   "metadata": {},
   "outputs": [],
   "source": []
  }
 ],
 "metadata": {
  "kernelspec": {
   "display_name": "Python 3 (ipykernel)",
   "language": "python",
   "name": "python3"
  },
  "language_info": {
   "codemirror_mode": {
    "name": "ipython",
    "version": 3
   },
   "file_extension": ".py",
   "mimetype": "text/x-python",
   "name": "python",
   "nbconvert_exporter": "python",
   "pygments_lexer": "ipython3",
   "version": "3.9.7"
  }
 },
 "nbformat": 4,
 "nbformat_minor": 5
}
