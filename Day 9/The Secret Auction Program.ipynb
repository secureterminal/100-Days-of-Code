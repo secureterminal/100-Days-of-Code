{
 "cells": [
  {
   "cell_type": "code",
   "execution_count": 27,
   "id": "b94483a3",
   "metadata": {
    "scrolled": true
   },
   "outputs": [
    {
     "ename": "ImportError",
     "evalue": "cannot import name 'logo' from 'art' (C:\\Users\\HI\\Documents\\Python\\100 Days of Code\\100-Days-of-Code\\Day 9\\art.py)",
     "output_type": "error",
     "traceback": [
      "\u001b[1;31m---------------------------------------------------------------------------\u001b[0m",
      "\u001b[1;31mImportError\u001b[0m                               Traceback (most recent call last)",
      "\u001b[1;32m~\\AppData\\Local\\Temp/ipykernel_23980/2245878149.py\u001b[0m in \u001b[0;36m<module>\u001b[1;34m\u001b[0m\n\u001b[1;32m----> 1\u001b[1;33m \u001b[1;32mfrom\u001b[0m \u001b[0mart\u001b[0m \u001b[1;32mimport\u001b[0m \u001b[0mlogo\u001b[0m\u001b[1;33m\u001b[0m\u001b[1;33m\u001b[0m\u001b[0m\n\u001b[0m\u001b[0;32m      2\u001b[0m \u001b[1;33m\u001b[0m\u001b[0m\n\u001b[0;32m      3\u001b[0m \u001b[0mprint\u001b[0m\u001b[1;33m(\u001b[0m\u001b[0mlogo\u001b[0m\u001b[1;33m)\u001b[0m\u001b[1;33m\u001b[0m\u001b[1;33m\u001b[0m\u001b[0m\n",
      "\u001b[1;31mImportError\u001b[0m: cannot import name 'logo' from 'art' (C:\\Users\\HI\\Documents\\Python\\100 Days of Code\\100-Days-of-Code\\Day 9\\art.py)"
     ]
    }
   ],
   "source": [
    "from art import logo\n",
    "\n",
    "print(logo)"
   ]
  },
  {
   "cell_type": "code",
   "execution_count": 23,
   "id": "f4e212e9",
   "metadata": {},
   "outputs": [
    {
     "name": "stdout",
     "output_type": "stream",
     "text": [
      "What is your name?: mez\n",
      "What's your bid?: $10000000\n",
      "{'Mez': 10000000}\n",
      "Are there other bidders? Type \"Y\" for \"YES\" and any other key for \"No\" >>>y\n",
      "What is your name?: sam\n",
      "What's your bid?: $2000\n",
      "{'Mez': 10000000, 'Sam': 2000}\n",
      "Are there other bidders? Type \"Y\" for \"YES\" and any other key for \"No\" >>>y\n",
      "What is your name?: emma\n",
      "What's your bid?: $100000\n",
      "{'Mez': 10000000, 'Sam': 2000, 'Emma': 100000}\n",
      "Are there other bidders? Type \"Y\" for \"YES\" and any other key for \"No\" >>>v\n",
      "\n",
      "\n",
      "Thank you all for participating in this Auction, you all are winners, Mez won the auction with a bid of $10,000,000 \n"
     ]
    }
   ],
   "source": [
    "from art import logo\n",
    "\n",
    "print(logo)\n",
    "\n",
    "\n",
    "import os\n",
    "\n",
    "def clearConsole():\n",
    "    command = 'clear'\n",
    "    if os.name in ('nt', 'dos'):  # If Machine is running on Windows, use cls\n",
    "        command = 'cls'\n",
    "    os.system(command)\n",
    "\n",
    "\n",
    "def get_bid():\n",
    "    user = input('What is your name?: ').title()\n",
    "    amount = int(input('What\\'s your bid?: $'))\n",
    "\n",
    "    bid_dict[user] = amount\n",
    "        \n",
    "    print(bid_dict)\n",
    "\n",
    "    \n",
    "bid_end = False\n",
    "\n",
    "bid_dict = {}\n",
    "\n",
    "\n",
    "while not bid_end:\n",
    "    get_bid()\n",
    "    \n",
    "    end_bid = input('Are there other bidders? Type \"Y\" for \"YES\" and any other key for \"No\" >>>').lower()\n",
    "    \n",
    "    if end_bid != 'y':\n",
    "        bid_end = True\n",
    "        \n",
    "        max_bid = 0\n",
    "        max_bidder = ''\n",
    "        for bidder in bid_dict:\n",
    "            if bid_dict[bidder] > max_bid:\n",
    "                max_bid = bid_dict[bidder]\n",
    "                max_bidder = bidder\n",
    "        max_bid = \"{:,}\".format(max_bid)\n",
    "        \n",
    "        print(f'\\n\\nThank you all for participating in this Auction, you all are winners, {max_bidder} won the auction with a bid of ${max_bid} ')\n",
    "    else:\n",
    "        clearConsole()\n",
    "        \n",
    "        \n",
    "        "
   ]
  },
  {
   "cell_type": "code",
   "execution_count": null,
   "id": "65fa6e5b",
   "metadata": {},
   "outputs": [],
   "source": [
    "# print(bid_dict)"
   ]
  },
  {
   "cell_type": "code",
   "execution_count": null,
   "id": "6a1e45b6",
   "metadata": {},
   "outputs": [],
   "source": []
  }
 ],
 "metadata": {
  "kernelspec": {
   "display_name": "Python 3 (ipykernel)",
   "language": "python",
   "name": "python3"
  },
  "language_info": {
   "codemirror_mode": {
    "name": "ipython",
    "version": 3
   },
   "file_extension": ".py",
   "mimetype": "text/x-python",
   "name": "python",
   "nbconvert_exporter": "python",
   "pygments_lexer": "ipython3",
   "version": "3.9.7"
  }
 },
 "nbformat": 4,
 "nbformat_minor": 5
}
