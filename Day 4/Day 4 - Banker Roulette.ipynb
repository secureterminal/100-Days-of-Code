{
 "cells": [
  {
   "cell_type": "code",
   "execution_count": null,
   "id": "821661ae",
   "metadata": {},
   "outputs": [],
   "source": [
    "# Split string method\n",
    "import random\n",
    "names_string = input(\"Welcome to the Banker Roulette, Give me everybody's names, separated by a comma. \\n\")\n",
    "names = names_string.split(\", \")\n",
    "# 🚨 Don't change the code above 👆\n",
    "\n",
    "#Write your code below this line 👇\n",
    "print(names)\n",
    "\n",
    "choice = random.randint(0, len(names)-1)\n",
    "\n",
    "# print(names[choice])\n",
    "\n",
    "print(f'Congratulations, {names[choice]}, you are the winner of the Banker Roulette, you get to pay for the bills tonight. ')"
   ]
  }
 ],
 "metadata": {
  "kernelspec": {
   "display_name": "Python 3 (ipykernel)",
   "language": "python",
   "name": "python3"
  },
  "language_info": {
   "codemirror_mode": {
    "name": "ipython",
    "version": 3
   },
   "file_extension": ".py",
   "mimetype": "text/x-python",
   "name": "python",
   "nbconvert_exporter": "python",
   "pygments_lexer": "ipython3",
   "version": "3.9.7"
  }
 },
 "nbformat": 4,
 "nbformat_minor": 5
}
