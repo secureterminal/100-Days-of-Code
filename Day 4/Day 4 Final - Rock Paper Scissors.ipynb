{
 "cells": [
  {
   "cell_type": "code",
   "execution_count": 7,
   "id": "41f4315d",
   "metadata": {},
   "outputs": [],
   "source": [
    "import ascii as a\n",
    "import random\n",
    "art = {0:a.rock, 1: a.paper, 2: a.scissors}"
   ]
  },
  {
   "cell_type": "code",
   "execution_count": 8,
   "id": "cbd20249",
   "metadata": {},
   "outputs": [
    {
     "name": "stdout",
     "output_type": "stream",
     "text": [
      "What do you choose? Type 0 for Rock, 1 for Paper or 2 for Scissors.\n",
      "\n",
      "2\n",
      "You chose \n",
      "\n",
      "\n",
      "    _______\n",
      "---'   ____)____\n",
      "          ______)\n",
      "       __________)\n",
      "      (____)\n",
      "---.__(___)\n",
      "\n",
      "\n",
      "Computer chose \n",
      "\n",
      "\n",
      "    _______\n",
      "---'   ____)____\n",
      "          ______)\n",
      "       __________)\n",
      "      (____)\n",
      "---.__(___)\n",
      "\n",
      "user: Scissors, computer: Scissors, winner: tie \n",
      "Game is a Tie, nobody wins!\n"
     ]
    }
   ],
   "source": [
    "def game_rules(user, computer):\n",
    "    keys = {0:'Rock', 1: 'Paper', 2: 'Scissors'}\n",
    "    user = keys[user]\n",
    "    computer = keys[computer]\n",
    "    if user == 'Rock' and computer == 'Scissors':\n",
    "        return 'user'\n",
    "    elif user == 'Rock' and computer == 'Paper':\n",
    "        return 'computer'\n",
    "    elif user == 'Scissors' and computer == 'Paper':\n",
    "        return 'user'\n",
    "    elif user == 'Scissors' and computer == 'Rock':\n",
    "        return 'computer'\n",
    "    elif user == 'Paper' and computer == 'Scissors':\n",
    "        return 'computer'\n",
    "    elif user == 'Paper' and computer == 'Rock':\n",
    "        return 'user'    \n",
    "    else:\n",
    "        return 'tie'\n",
    "    \n",
    "\n",
    "\n",
    "users_choice = int(input(\"What do you choose? Type 0 for Rock, 1 for Paper or 2 for Scissors.\\n\\n\"))\n",
    "if (users_choice > 2) or (users_choice < 0):\n",
    "    print('You made the wrong choice, you lose')\n",
    "else:\n",
    "    print('You chose \\n')\n",
    "    print(art[users_choice])\n",
    "\n",
    "    computers_choice = random.randint(0,2)\n",
    "    print('\\nComputer chose \\n')\n",
    "    print(art[computers_choice])\n",
    "\n",
    "    keys = {0:'Rock', 1: 'Paper', 2: 'Scissors'}\n",
    "    user = keys[users_choice]\n",
    "    computer = keys[computers_choice]\n",
    "    final = game_rules(users_choice, computers_choice)\n",
    "    print(f'user: {user}, computer: {computer}, winner: {final} ')\n",
    "\n",
    "    if final == 'user':\n",
    "        print('User wins!')\n",
    "    elif final == 'computer':\n",
    "        print('Computer wins!')\n",
    "    else:\n",
    "        print('Game is a Tie, nobody wins!')"
   ]
  }
 ],
 "metadata": {
  "kernelspec": {
   "display_name": "Python 3 (ipykernel)",
   "language": "python",
   "name": "python3"
  },
  "language_info": {
   "codemirror_mode": {
    "name": "ipython",
    "version": 3
   },
   "file_extension": ".py",
   "mimetype": "text/x-python",
   "name": "python",
   "nbconvert_exporter": "python",
   "pygments_lexer": "ipython3",
   "version": "3.9.7"
  }
 },
 "nbformat": 4,
 "nbformat_minor": 5
}
