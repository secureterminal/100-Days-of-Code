{
 "cells": [
  {
   "cell_type": "code",
   "execution_count": null,
   "id": "821f09e2",
   "metadata": {},
   "outputs": [],
   "source": [
    "# Note that this code is not to be run in the Python console. However, it should be run in Reeborgs World website.\n",
    "# https://reeborg.ca/reeborg.html?lang=en&mode=python&menu=worlds%2Fmenus%2Freeborg_intro_en.json&name=Maze&url=worlds%2Ftutorial_en%2Fmaze1.json"
   ]
  },
  {
   "cell_type": "code",
   "execution_count": null,
   "id": "affccbb7",
   "metadata": {},
   "outputs": [],
   "source": [
    "def turn_right():\n",
    "    turn_left()\n",
    "    turn_left()\n",
    "    turn_left()\n",
    "    \n",
    "    \n",
    "while not at_goal():\n",
    "    if right_is_clear():\n",
    "        turn_right()\n",
    "        move()\n",
    "        if at_goal():\n",
    "            break\n",
    "        while front_is_clear():\n",
    "            move()\n",
    "            if at_goal():\n",
    "                break\n",
    "            \n",
    "    elif front_is_clear():\n",
    "        move()\n",
    "        if at_goal():\n",
    "            break\n",
    "        while right_is_clear():\n",
    "            turn_right()\n",
    "            move()\n",
    "            if at_goal():\n",
    "                break\n",
    "    else:\n",
    "        turn_left()\n",
    "        "
   ]
  }
 ],
 "metadata": {
  "kernelspec": {
   "display_name": "Python 3 (ipykernel)",
   "language": "python",
   "name": "python3"
  },
  "language_info": {
   "codemirror_mode": {
    "name": "ipython",
    "version": 3
   },
   "file_extension": ".py",
   "mimetype": "text/x-python",
   "name": "python",
   "nbconvert_exporter": "python",
   "pygments_lexer": "ipython3",
   "version": "3.9.7"
  }
 },
 "nbformat": 4,
 "nbformat_minor": 5
}
