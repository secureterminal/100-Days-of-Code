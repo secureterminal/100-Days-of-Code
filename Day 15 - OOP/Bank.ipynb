{
 "cells": [
  {
   "cell_type": "code",
   "execution_count": 2,
   "id": "6b33f61b",
   "metadata": {},
   "outputs": [],
   "source": [
    "import random"
   ]
  },
  {
   "cell_type": "code",
   "execution_count": 23,
   "id": "8fce0b57",
   "metadata": {},
   "outputs": [
    {
     "name": "stdout",
     "output_type": "stream",
     "text": [
      "This is MFB\n"
     ]
    }
   ],
   "source": [
    "class Bank:\n",
    "    def __init__(self, name, number, acct_type):\n",
    "        self.name = name.title()\n",
    "        self.number = number\n",
    "        self.acct_type = acct_type\n",
    "    \n",
    "    def show_details(self):\n",
    "        CURRENCY = '$'\n",
    "        balance = random.randint(100000, 10000000000)\n",
    "        print(f\"Dear {self.name}, your {self.acct_type} bank account {self.number} balance is  {CURRENCY}{balance} \")\n",
    "\n",
    "class Mfb(Bank):\n",
    "    class bigbite():\n",
    "        print('This is MFB')"
   ]
  },
  {
   "cell_type": "code",
   "execution_count": 24,
   "id": "2a958d9c",
   "metadata": {},
   "outputs": [],
   "source": [
    "a = Mfb('anozie chimezie', 170560794, 'savings')"
   ]
  },
  {
   "cell_type": "code",
   "execution_count": 25,
   "id": "07b13427",
   "metadata": {},
   "outputs": [
    {
     "name": "stdout",
     "output_type": "stream",
     "text": [
      "Dear Anozie Chimezie, your savings bank account 170560794 balance is  $3882460172 \n"
     ]
    }
   ],
   "source": [
    "a.show_details()"
   ]
  },
  {
   "cell_type": "code",
   "execution_count": 26,
   "id": "fa78527d",
   "metadata": {},
   "outputs": [
    {
     "data": {
      "text/plain": [
       "<__main__.Mfb.bigbite at 0x22db901e3a0>"
      ]
     },
     "execution_count": 26,
     "metadata": {},
     "output_type": "execute_result"
    }
   ],
   "source": [
    "a.bigbite()"
   ]
  },
  {
   "cell_type": "code",
   "execution_count": null,
   "id": "a321a944",
   "metadata": {},
   "outputs": [],
   "source": []
  }
 ],
 "metadata": {
  "kernelspec": {
   "display_name": "Python 3 (ipykernel)",
   "language": "python",
   "name": "python3"
  },
  "language_info": {
   "codemirror_mode": {
    "name": "ipython",
    "version": 3
   },
   "file_extension": ".py",
   "mimetype": "text/x-python",
   "name": "python",
   "nbconvert_exporter": "python",
   "pygments_lexer": "ipython3",
   "version": "3.9.7"
  }
 },
 "nbformat": 4,
 "nbformat_minor": 5
}
