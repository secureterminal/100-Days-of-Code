{
 "cells": [
  {
   "cell_type": "code",
   "execution_count": 10,
   "id": "8f96fc94",
   "metadata": {},
   "outputs": [
    {
     "name": "stdout",
     "output_type": "stream",
     "text": [
      "Welcome to the Love 👩🏼‍❤️‍💋‍👨🏽 alculator!\n",
      "What is your name? \n",
      "Angela Yu\n",
      "What is their name? \n",
      "Jack Bauer\n",
      "Congratulations, Angela Yu and Jack Bauer, your love is 53% strong, remember this is just a game and does not truely reflect how you feel about each other.\n"
     ]
    }
   ],
   "source": [
    "# 🚨 Don't change the code below 👇\n",
    "print(\"Welcome to the Love 👩🏼‍❤️‍💋‍👨🏽 alculator!\")\n",
    "name1 = input(\"What is your name? \\n\")\n",
    "name2 = input(\"What is their name? \\n\")\n",
    "# 🚨 Don't change the code above 👆\n",
    "\n",
    "#Write your code below this line 👇\n",
    "\n",
    "def greater_than_9(count):\n",
    "    if count > 9:\n",
    "        return 9\n",
    "    else:\n",
    "        return count\n",
    "    \n",
    "    \n",
    "word1 = 'true'\n",
    "word2 = 'love'\n",
    "count1 = 0\n",
    "count2 = 0\n",
    "all_name = name1.strip().lower() + name2.strip().lower()\n",
    "\n",
    "for w in word1:\n",
    "    for a in all_name:\n",
    "        if a==w:\n",
    "            count1+=1\n",
    "\n",
    "for w in word2:\n",
    "    for a in all_name:\n",
    "        if a==w:\n",
    "            count2+=1\n",
    "            \n",
    "            \n",
    "love_percent = str(greater_than_9(count1)) + str(greater_than_9(count2))\n",
    "print(f'Congratulations, {name1} and {name2}, your love is {love_percent}% strong, remember this is just a game and does not truely reflect how you feel about each other.')"
   ]
  },
  {
   "cell_type": "code",
   "execution_count": null,
   "id": "7f7b8fc2",
   "metadata": {},
   "outputs": [],
   "source": []
  }
 ],
 "metadata": {
  "kernelspec": {
   "display_name": "Python 3 (ipykernel)",
   "language": "python",
   "name": "python3"
  },
  "language_info": {
   "codemirror_mode": {
    "name": "ipython",
    "version": 3
   },
   "file_extension": ".py",
   "mimetype": "text/x-python",
   "name": "python",
   "nbconvert_exporter": "python",
   "pygments_lexer": "ipython3",
   "version": "3.9.7"
  }
 },
 "nbformat": 4,
 "nbformat_minor": 5
}
