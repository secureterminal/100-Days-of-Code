{
 "cells": [
  {
   "cell_type": "code",
   "execution_count": 12,
   "id": "355ac6ec",
   "metadata": {},
   "outputs": [
    {
     "name": "stdout",
     "output_type": "stream",
     "text": [
      "Welcome to Python Pizza Deliveries!\n",
      "What size pizza do you want? S, M, or L s\n",
      "Do you want pepperoni? Y or N y\n",
      "Do you want extra cheese? Y or N n\n",
      "17\n"
     ]
    }
   ],
   "source": [
    "# 🚨 Don't change the code below 👇\n",
    "print(\"Welcome to Python Pizza Deliveries!\")\n",
    "size = input(\"What size pizza do you want? S, M, or L \").upper()\n",
    "add_pepperoni = input(\"Do you want pepperoni? Y or N \").upper()\n",
    "extra_cheese = input(\"Do you want extra cheese? Y or N \").upper()\n",
    "# 🚨 Don't change the code above 👆\n",
    "\n",
    "#Write your code below this line 👇\n",
    "sum = 0\n",
    "prices = {'S':15, 'M': 20, 'L': 25}\n",
    "\n",
    "main = prices[size]\n",
    "\n",
    "if extra_cheese == 'Y':\n",
    "    main += 1\n",
    "if add_pepperoni == 'Y':\n",
    "    if size == 'S':\n",
    "        main += 2\n",
    "    else:\n",
    "        main += 3\n",
    "\n",
    "print(main)"
   ]
  },
  {
   "cell_type": "code",
   "execution_count": 6,
   "id": "580fe395",
   "metadata": {},
   "outputs": [
    {
     "data": {
      "text/plain": [
       "15"
      ]
     },
     "execution_count": 6,
     "metadata": {},
     "output_type": "execute_result"
    }
   ],
   "source": [
    "prices[size.upper()]"
   ]
  },
  {
   "cell_type": "code",
   "execution_count": null,
   "id": "c7d651e1",
   "metadata": {},
   "outputs": [],
   "source": []
  }
 ],
 "metadata": {
  "kernelspec": {
   "display_name": "Python 3 (ipykernel)",
   "language": "python",
   "name": "python3"
  },
  "language_info": {
   "codemirror_mode": {
    "name": "ipython",
    "version": 3
   },
   "file_extension": ".py",
   "mimetype": "text/x-python",
   "name": "python",
   "nbconvert_exporter": "python",
   "pygments_lexer": "ipython3",
   "version": "3.9.7"
  }
 },
 "nbformat": 4,
 "nbformat_minor": 5
}
