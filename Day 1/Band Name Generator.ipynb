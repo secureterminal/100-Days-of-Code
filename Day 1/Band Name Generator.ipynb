{
 "cells": [
  {
   "cell_type": "code",
   "execution_count": 5,
   "id": "1c510946",
   "metadata": {},
   "outputs": [
    {
     "name": "stdout",
     "output_type": "stream",
     "text": [
      "Hello, welcome to the Band Name Generator App\n",
      "Which city did you grow up in?\n",
      "lagos\n",
      "What is the name of your pet/favourite animaldove\n",
      "\n",
      "\n",
      "Congratulations, your band name is Lagos Doves\n"
     ]
    }
   ],
   "source": [
    "import re\n",
    "def pluralize(noun):\n",
    "    if re.search('[sxz]$', noun):\n",
    "         return re.sub('$', 'es', noun)\n",
    "    elif re.search('[^aeioudgkprt]h$', noun):\n",
    "        return re.sub('$', 'es', noun)\n",
    "    elif re.search('[aeiou]y$', noun):\n",
    "        return re.sub('y$', 'ies', noun)\n",
    "    else:\n",
    "        return noun + 's'\n",
    "   \n",
    "\n",
    "# Input your city\n",
    "\n",
    "print(\"Hello, welcome to the Band Name Generator App\")\n",
    "\n",
    "city = input(\"Which city did you grow up in?\\n\")\n",
    "pet = input(\"What is the name of your pet/favourite animal\")\n",
    "\n",
    "band_name = city.strip().title() + \" \" + pluralize(pet.strip().title())\n",
    "\n",
    "print(\"\\n\\nCongratulations, your band name is \" + band_name)"
   ]
  },
  {
   "cell_type": "code",
   "execution_count": null,
   "id": "9e3294bd",
   "metadata": {},
   "outputs": [],
   "source": []
  }
 ],
 "metadata": {
  "kernelspec": {
   "display_name": "Python 3 (ipykernel)",
   "language": "python",
   "name": "python3"
  },
  "language_info": {
   "codemirror_mode": {
    "name": "ipython",
    "version": 3
   },
   "file_extension": ".py",
   "mimetype": "text/x-python",
   "name": "python",
   "nbconvert_exporter": "python",
   "pygments_lexer": "ipython3",
   "version": "3.9.7"
  }
 },
 "nbformat": 4,
 "nbformat_minor": 5
}
